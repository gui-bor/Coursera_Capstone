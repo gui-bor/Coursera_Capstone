{
 "cells": [
  {
   "cell_type": "markdown",
   "metadata": {},
   "source": [
    "# Coursera Capstone Final assignment"
   ]
  },
  {
   "cell_type": "markdown",
   "metadata": {},
   "source": [
    "## Description of the study problem and background.\n",
    "\n",
    "The owner of an bookstore that sells ancient and rare books has his store Paris city center, near the Louvres museum. He wants to relocate abroad. He is considering to install his new rare and ancient books store in Munich, Berlin, Oslo, Trondheim, Budapest, and Barcelona. The business in his current book store in Paris is good, so he should try to install his new book store in a place that is similar to where he is now. To relocate him in a place that is beneficial to his business, we need to compare those city centers and find which is the most similar to where he is at the moment. As his bookstore is in a cultural neighborhood in Paris, we need to find for him a city that offers the most cultural venues around the city center, because it is most likely that his customers are people generally attracted by cultural neighborhood.\n",
    "\n",
    "## How will I use the data ? \n",
    "\n",
    "I will use foursquare API to pull all venues around a 2km radius of each city center of the possible cities. I will then summarize the number of cultural venues for each location. The city we will recommend him for hist store will be the one that has the most cultural venues such as museums. Ideally it should have even more cultural venues than Paris to attract even more customer to his store. \n",
    "\n",
    "It is not a very complicated study but we are confident that it will help him relocate his store while keeping the same level of customer and business. \n",
    "\n"
   ]
  },
  {
   "cell_type": "code",
   "execution_count": null,
   "metadata": {},
   "outputs": [],
   "source": []
  }
 ],
 "metadata": {
  "kernelspec": {
   "display_name": "Python",
   "language": "python",
   "name": "conda-env-python-py"
  },
  "language_info": {
   "codemirror_mode": {
    "name": "ipython",
    "version": 3
   },
   "file_extension": ".py",
   "mimetype": "text/x-python",
   "name": "python",
   "nbconvert_exporter": "python",
   "pygments_lexer": "ipython3",
   "version": "3.6.10"
  }
 },
 "nbformat": 4,
 "nbformat_minor": 4
}
